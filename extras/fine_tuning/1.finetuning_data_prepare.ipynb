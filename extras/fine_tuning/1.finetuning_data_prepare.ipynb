{
 "cells": [
  {
   "cell_type": "code",
   "execution_count": 1,
   "metadata": {},
   "outputs": [],
   "source": [
    "import pandas as pd\n",
    "import numpy as np\n",
    "\n",
    "# Paths to your pickle files\n",
    "train_data_path_cg = 'finetuning_cg_gpt_v1.jsonl'\n",
    "train_data_path_cs = 'finetuning_cs_gpt_v1.jsonl'\n",
    "\n",
    "# Load the jsonl files\n",
    "train_data_cg = pd.read_json(train_data_path_cg, lines=True)\n",
    "train_data_cs = pd.read_json(train_data_path_cs, lines=True)\n",
    "\n",
    "# rename column to text\n",
    "train_data_cg.rename(columns={'messages': 'text'}, inplace=True)\n",
    "train_data_cs.rename(columns={'messages': 'text'}, inplace=True)"
   ]
  },
  {
   "cell_type": "code",
   "execution_count": 4,
   "metadata": {},
   "outputs": [],
   "source": [
    "# Save to CSV in new directory\n",
    "import os\n",
    "\n",
    "os.makedirs('data_cg', exist_ok=True)\n",
    "os.makedirs('data_cs', exist_ok=True)\n",
    "\n",
    "train_data_cg.to_csv('data_cg/train.csv', index=False)\n",
    "train_data_cs.to_csv('data_cs/train.csv', index=False)"
   ]
  },
  {
   "cell_type": "code",
   "execution_count": null,
   "metadata": {},
   "outputs": [],
   "source": []
  }
 ],
 "metadata": {
  "kernelspec": {
   "display_name": ".venv",
   "language": "python",
   "name": "python3"
  },
  "language_info": {
   "codemirror_mode": {
    "name": "ipython",
    "version": 3
   },
   "file_extension": ".py",
   "mimetype": "text/x-python",
   "name": "python",
   "nbconvert_exporter": "python",
   "pygments_lexer": "ipython3",
   "version": "3.10.14"
  }
 },
 "nbformat": 4,
 "nbformat_minor": 2
}
