{
 "cells": [
  {
   "cell_type": "markdown",
   "metadata": {},
   "source": [
    "https://platform.openai.com/docs/guides/batch/model-availability"
   ]
  },
  {
   "cell_type": "code",
   "execution_count": 1,
   "metadata": {},
   "outputs": [],
   "source": [
    "from openai import OpenAI\n",
    "import os\n",
    "import yaml\n",
    "\n",
    "# os.environ.get(\"OPENAI_API_KEY\")\n",
    "# Get config\n",
    "CONFIG_FILE = \"../src/config.yaml\"\n",
    "\n",
    "if os.path.exists(CONFIG_FILE):\n",
    "    with open(CONFIG_FILE, \"r\") as file:\n",
    "        config = yaml.safe_load(file)\n",
    "else:\n",
    "    config = {}\n",
    "\n",
    "os.environ[\"OPENAI_API_KEY\"] = config[\"llm\"][\"openai_key\"]\n",
    "client = OpenAI()\n"
   ]
  },
  {
   "cell_type": "code",
   "execution_count": 3,
   "metadata": {},
   "outputs": [
    {
     "name": "stdout",
     "output_type": "stream",
     "text": [
      "batch_prompt_gpt-4o-mini_autogen.jsonl\n",
      "batch_prompt_gpt-4o-mini_hg_cs.jsonl\n",
      "batch_prompt_gpt-4o-mini_js.jsonl\n",
      "batch_prompt_gpt-4o-mini_micro.jsonl\n",
      "batch_prompt_gpt-4o-mini_pycg.jsonl\n",
      "batch_prompt_gpt-4o_autogen.jsonl\n",
      "batch_prompt_gpt-4o_hg_cs.jsonl\n",
      "batch_prompt_gpt-4o_js.jsonl\n",
      "batch_prompt_gpt-4o_micro.jsonl\n",
      "batch_prompt_gpt-4o_pycg.jsonl\n"
     ]
    }
   ],
   "source": [
    "folder_path = \"../.scrapy/batch_prompts\"\n",
    "file_paths = []\n",
    "\n",
    "# Get the list of file paths in the folder\n",
    "for file_name in os.listdir(folder_path):\n",
    "  if file_name.endswith(\".jsonl\"):\n",
    "    file_paths.append(os.path.join(folder_path, file_name))\n",
    "    print(file_name)"
   ]
  },
  {
   "cell_type": "markdown",
   "metadata": {},
   "source": [
    "- batch_prompt_gpt-4o-mini_autogen.jsonl - 'file-IHVfDSrWeL8YerJ6wMZvtuol' - batch_glNBmyi30uDTH0EuG3c6jTov\n",
    "- batch_prompt_gpt-4o-mini_hg_cs.jsonl - 'file-rbzekY6CP6dLdjCLi91jfcXD' - batch_3dK2KOYlkhovzS7Qmqbs0Cnc\n",
    "- batch_prompt_gpt-4o-mini_js.jsonl - 'file-1yimk0k7iP7hH8Vbqr3KH2aD' - batch_rbNCMtcZIUyzD9aZ4QQ2RsIu\n",
    "- batch_prompt_gpt-4o-mini_micro.jsonl - 'file-Bt6l3A48l8QAWgwAf2D1X3Ja' - batch_zz7O1DOR6r7eVpvuvn8g6GgZ\n",
    "- batch_prompt_gpt-4o-mini_pycg.jsonl - 'file-vH3YgoTcegi16LobgPhQdFZv' - batch_Nk9np2B9rhzD3AaDgMZEU7oB\n",
    "- batch_prompt_gpt-4o_autogen.jsonl - 'file-HgcNUnBHVrsWuSTG9lMep0Jb' - batch_sjDtwbjl3IB6GRZg5XP4svqS\n",
    "- batch_prompt_gpt-4o_hg_cs.jsonl - 'file-9FQ5qqxnmxP8J5Mjllnlv4H8' - batch_1PSl4bmOdffJdyRraiOPbleP\n",
    "- batch_prompt_gpt-4o_js.jsonl - 'file-SZiKRW43fng8I7l6fU61kxDn' - batch_YE7JzcBsKLSeZ7CeoeGIkCdZ\n",
    "- batch_prompt_gpt-4o_micro.jsonl - 'file-hYV4LDTjVZ5n1vLOEdLDegRZ' - batch_GL3PSRMWW25MNowx8ERWCDhD\n",
    "- batch_prompt_gpt-4o_pycg.jsonl - 'file-gKOW2WSvepdu4RqlGCbrtdj6' - batch_uGBHKpb5oeIHVaBNXUQCdipr"
   ]
  },
  {
   "cell_type": "code",
   "execution_count": 2,
   "metadata": {},
   "outputs": [
    {
     "name": "stdout",
     "output_type": "stream",
     "text": [
      "['file-IHVfDSrWeL8YerJ6wMZvtuol', 'file-rbzekY6CP6dLdjCLi91jfcXD', 'file-1yimk0k7iP7hH8Vbqr3KH2aD', 'file-Bt6l3A48l8QAWgwAf2D1X3Ja', 'file-vH3YgoTcegi16LobgPhQdFZv', 'file-HgcNUnBHVrsWuSTG9lMep0Jb', 'file-9FQ5qqxnmxP8J5Mjllnlv4H8', 'file-SZiKRW43fng8I7l6fU61kxDn', 'file-hYV4LDTjVZ5n1vLOEdLDegRZ', 'file-gKOW2WSvepdu4RqlGCbrtdj6']\n"
     ]
    }
   ],
   "source": [
    "import os\n",
    "\n",
    "folder_path = \"../.scrapy/batch_prompts\"\n",
    "file_paths = []\n",
    "\n",
    "# Get the list of file paths in the folder\n",
    "for file_name in os.listdir(folder_path):\n",
    "  if file_name.endswith(\".jsonl\"):\n",
    "    file_paths.append(os.path.join(folder_path, file_name))\n",
    "\n",
    "batch_input_file_ids = []\n",
    "# Iterate over the file paths\n",
    "for file_path in file_paths:\n",
    "  batch_input_file = client.files.create(\n",
    "    file=open(file_path, \"rb\"),\n",
    "    purpose=\"batch\"\n",
    "  )\n",
    "  batch_input_file_ids.append(batch_input_file.id)\n",
    "\n",
    "print(batch_input_file_ids)"
   ]
  },
  {
   "cell_type": "code",
   "execution_count": 3,
   "metadata": {},
   "outputs": [],
   "source": [
    "for batch_input_file_id in batch_input_file_ids:\n",
    "  client.batches.create(\n",
    "    input_file_id=batch_input_file_id,\n",
    "    endpoint=\"/v1/chat/completions\",\n",
    "    completion_window=\"24h\",\n",
    "    metadata={\n",
    "      \"description\": f\"Chat completions for {batch_input_file_id}\"\n",
    "    }\n",
    "  )\n"
   ]
  },
  {
   "cell_type": "code",
   "execution_count": 2,
   "metadata": {},
   "outputs": [],
   "source": [
    "from openai import OpenAI\n",
    "client = OpenAI()\n",
    "\n",
    "batches_info = client.batches.list(limit=10)"
   ]
  },
  {
   "cell_type": "code",
   "execution_count": 4,
   "metadata": {},
   "outputs": [
    {
     "name": "stdout",
     "output_type": "stream",
     "text": [
      "Batch(id='batch_uGBHKpb5oeIHVaBNXUQCdipr', completion_window='24h', created_at=1725565304, endpoint='/v1/chat/completions', input_file_id='file-gKOW2WSvepdu4RqlGCbrtdj6', object='batch', status='completed', cancelled_at=None, cancelling_at=None, completed_at=1725565483, error_file_id=None, errors=None, expired_at=None, expires_at=1725651704, failed_at=None, finalizing_at=1725565473, in_progress_at=1725565305, metadata={'description': 'Chat completions for file-gKOW2WSvepdu4RqlGCbrtdj6'}, output_file_id='file-q8B4XM9JGox8eRfdCJW5OUyp', request_counts=BatchRequestCounts(completed=127, failed=0, total=127))\n",
      "Batch(id='batch_GL3PSRMWW25MNowx8ERWCDhD', completion_window='24h', created_at=1725565303, endpoint='/v1/chat/completions', input_file_id='file-hYV4LDTjVZ5n1vLOEdLDegRZ', object='batch', status='completed', cancelled_at=None, cancelling_at=None, completed_at=1725565485, error_file_id=None, errors=None, expired_at=None, expires_at=1725651703, failed_at=None, finalizing_at=1725565473, in_progress_at=1725565303, metadata={'description': 'Chat completions for file-hYV4LDTjVZ5n1vLOEdLDegRZ'}, output_file_id='file-ykm28abo3iP6WgDXRHOyn3mf', request_counts=BatchRequestCounts(completed=154, failed=0, total=154))\n",
      "Batch(id='batch_YE7JzcBsKLSeZ7CeoeGIkCdZ', completion_window='24h', created_at=1725565302, endpoint='/v1/chat/completions', input_file_id='file-SZiKRW43fng8I7l6fU61kxDn', object='batch', status='completed', cancelled_at=None, cancelling_at=None, completed_at=1725565475, error_file_id=None, errors=None, expired_at=None, expires_at=1725651702, failed_at=None, finalizing_at=1725565466, in_progress_at=1725565302, metadata={'description': 'Chat completions for file-SZiKRW43fng8I7l6fU61kxDn'}, output_file_id='file-opoaKhRoEGW7SbTL1jQaW8ET', request_counts=BatchRequestCounts(completed=127, failed=0, total=127))\n",
      "Batch(id='batch_1PSl4bmOdffJdyRraiOPbleP', completion_window='24h', created_at=1725565301, endpoint='/v1/chat/completions', input_file_id='file-9FQ5qqxnmxP8J5Mjllnlv4H8', object='batch', status='completed', cancelled_at=None, cancelling_at=None, completed_at=1725565482, error_file_id=None, errors=None, expired_at=None, expires_at=1725651701, failed_at=None, finalizing_at=1725565473, in_progress_at=1725565302, metadata={'description': 'Chat completions for file-9FQ5qqxnmxP8J5Mjllnlv4H8'}, output_file_id='file-yLjmwM8tnJ7m52Z0kUDSg0xb', request_counts=BatchRequestCounts(completed=123, failed=0, total=123))\n",
      "Batch(id='batch_sjDtwbjl3IB6GRZg5XP4svqS', completion_window='24h', created_at=1725565299, endpoint='/v1/chat/completions', input_file_id='file-HgcNUnBHVrsWuSTG9lMep0Jb', object='batch', status='completed', cancelled_at=None, cancelling_at=None, completed_at=1725567142, error_file_id=None, errors=None, expired_at=None, expires_at=1725651699, failed_at=None, finalizing_at=1725566565, in_progress_at=1725565303, metadata={'description': 'Chat completions for file-HgcNUnBHVrsWuSTG9lMep0Jb'}, output_file_id='file-m3nARpb58gf6iCQQHot7rIYB', request_counts=BatchRequestCounts(completed=5453, failed=0, total=5453))\n",
      "Batch(id='batch_Nk9np2B9rhzD3AaDgMZEU7oB', completion_window='24h', created_at=1725565299, endpoint='/v1/chat/completions', input_file_id='file-vH3YgoTcegi16LobgPhQdFZv', object='batch', status='completed', cancelled_at=None, cancelling_at=None, completed_at=1725565635, error_file_id=None, errors=None, expired_at=None, expires_at=1725651699, failed_at=None, finalizing_at=1725565626, in_progress_at=1725565299, metadata={'description': 'Chat completions for file-vH3YgoTcegi16LobgPhQdFZv'}, output_file_id='file-ax8bNm0VQJ8CuVze0TO4rPQQ', request_counts=BatchRequestCounts(completed=127, failed=0, total=127))\n",
      "Batch(id='batch_zz7O1DOR6r7eVpvuvn8g6GgZ', completion_window='24h', created_at=1725565298, endpoint='/v1/chat/completions', input_file_id='file-Bt6l3A48l8QAWgwAf2D1X3Ja', object='batch', status='completed', cancelled_at=None, cancelling_at=None, completed_at=1725565638, error_file_id=None, errors=None, expired_at=None, expires_at=1725651698, failed_at=None, finalizing_at=1725565626, in_progress_at=1725565299, metadata={'description': 'Chat completions for file-Bt6l3A48l8QAWgwAf2D1X3Ja'}, output_file_id='file-5wER4twuGj6HoWiwDZPnhxIe', request_counts=BatchRequestCounts(completed=154, failed=0, total=154))\n",
      "Batch(id='batch_rbNCMtcZIUyzD9aZ4QQ2RsIu', completion_window='24h', created_at=1725565298, endpoint='/v1/chat/completions', input_file_id='file-1yimk0k7iP7hH8Vbqr3KH2aD', object='batch', status='completed', cancelled_at=None, cancelling_at=None, completed_at=1725565635, error_file_id=None, errors=None, expired_at=None, expires_at=1725651698, failed_at=None, finalizing_at=1725565626, in_progress_at=1725565298, metadata={'description': 'Chat completions for file-1yimk0k7iP7hH8Vbqr3KH2aD'}, output_file_id='file-bvZ1OLmpbIPTDkIrMN2EqAAY', request_counts=BatchRequestCounts(completed=127, failed=0, total=127))\n",
      "Batch(id='batch_3dK2KOYlkhovzS7Qmqbs0Cnc', completion_window='24h', created_at=1725565297, endpoint='/v1/chat/completions', input_file_id='file-rbzekY6CP6dLdjCLi91jfcXD', object='batch', status='completed', cancelled_at=None, cancelling_at=None, completed_at=1725565635, error_file_id=None, errors=None, expired_at=None, expires_at=1725651697, failed_at=None, finalizing_at=1725565626, in_progress_at=1725565297, metadata={'description': 'Chat completions for file-rbzekY6CP6dLdjCLi91jfcXD'}, output_file_id='file-lSTh0Oz2Fw52X9BSs4XZz7qa', request_counts=BatchRequestCounts(completed=123, failed=0, total=123))\n",
      "Batch(id='batch_glNBmyi30uDTH0EuG3c6jTov', completion_window='24h', created_at=1725565295, endpoint='/v1/chat/completions', input_file_id='file-IHVfDSrWeL8YerJ6wMZvtuol', object='batch', status='completed', cancelled_at=None, cancelling_at=None, completed_at=1725567742, error_file_id=None, errors=None, expired_at=None, expires_at=1725651695, failed_at=None, finalizing_at=1725567075, in_progress_at=1725565298, metadata={'description': 'Chat completions for file-IHVfDSrWeL8YerJ6wMZvtuol'}, output_file_id='file-YPI6EQickl8rswaWJoJntLOO', request_counts=BatchRequestCounts(completed=5453, failed=0, total=5453))\n",
      "Batch(id='batch_Ufc5EkBcAbSceD4XzNF67KjO', completion_window='24h', created_at=1725549306, endpoint='/v1/chat/completions', input_file_id='file-PyayymAZ5TCcbTZUZ5nPN5zI', object='batch', status='completed', cancelled_at=None, cancelling_at=None, completed_at=1725549308, error_file_id=None, errors=None, expired_at=None, expires_at=1725635706, failed_at=None, finalizing_at=1725549308, in_progress_at=1725549306, metadata={'description': 'Batch Trial'}, output_file_id='file-O2iG9DpOYcU937Nrjru3JXxp', request_counts=BatchRequestCounts(completed=3, failed=0, total=3))\n"
     ]
    }
   ],
   "source": [
    "for _b in batches_info:\n",
    "    print(_b)\n",
    "\n",
    "    # if status is \"completed\" then download the file\n",
    "    if _b.status != \"completed\":\n",
    "        continue\n",
    "\n",
    "    file_response = client.files.content(_b.output_file_id)\n",
    "    with open(f\"../.scrapy/batch_prompts_results/{_b.id}.jsonl\", \"w\") as file:\n",
    "        file.write(file_response.text)\n"
   ]
  },
  {
   "cell_type": "code",
   "execution_count": 11,
   "metadata": {},
   "outputs": [],
   "source": [
    "from openai import OpenAI\n",
    "client = OpenAI()\n",
    "\n",
    "file_info = client.batches.retrieve(\"batch_Ufc5EkBcAbSceD4XzNF67KjO\")"
   ]
  },
  {
   "cell_type": "code",
   "execution_count": 14,
   "metadata": {},
   "outputs": [
    {
     "name": "stdout",
     "output_type": "stream",
     "text": [
      "{\"id\": \"batch_req_HWbEoplsNE1CoXKmYvRKUxK0\", \"custom_id\": \"request-types-0\", \"response\": {\"status_code\": 200, \"request_id\": \"e55227a57343f3bfedc16b45f392647e\", \"body\": {\"id\": \"chatcmpl-A48UNoLfHd5nmm1SRA3E3GEEH0RNc\", \"object\": \"chat.completion\", \"created\": 1725549307, \"model\": \"gpt-4o-mini-2024-07-18\", \"choices\": [{\"index\": 0, \"message\": {\"role\": \"assistant\", \"content\": \"1. int  \\n2. int  \\n3. function  \\n4. function  \\n5. int  \", \"refusal\": null}, \"logprobs\": null, \"finish_reason\": \"stop\"}], \"usage\": {\"prompt_tokens\": 357, \"completion_tokens\": 20, \"total_tokens\": 377}, \"system_fingerprint\": \"fp_f33667828e\"}}, \"error\": null}\n",
      "{\"id\": \"batch_req_GdlSnHJQ0dBcoL8SKDoP9d0F\", \"custom_id\": \"request-types-1\", \"response\": {\"status_code\": 200, \"request_id\": \"9e01043de3caf7e095f7d799c7f3279b\", \"body\": {\"id\": \"chatcmpl-A48UNq9mYTJbpRYQJQNfPdyFu4Whj\", \"object\": \"chat.completion\", \"created\": 1725549307, \"model\": \"gpt-4o-mini-2024-07-18\", \"choices\": [{\"index\": 0, \"message\": {\"role\": \"assistant\", \"content\": \"1. float  \\n2. float  \\n3. function  \\n4. function  \\n5. float  \", \"refusal\": null}, \"logprobs\": null, \"finish_reason\": \"stop\"}], \"usage\": {\"prompt_tokens\": 359, \"completion_tokens\": 20, \"total_tokens\": 379}, \"system_fingerprint\": \"fp_f33667828e\"}}, \"error\": null}\n",
      "{\"id\": \"batch_req_05mDnLSDPh9f3cO5BDtuEnzJ\", \"custom_id\": \"request-types-2\", \"response\": {\"status_code\": 200, \"request_id\": \"54eda3aa77bc48b7ebf99431901c86f7\", \"body\": {\"id\": \"chatcmpl-A48UNwnSBiX2lmAbptZz4yyUMQgrp\", \"object\": \"chat.completion\", \"created\": 1725549307, \"model\": \"gpt-4o-mini-2024-07-18\", \"choices\": [{\"index\": 0, \"message\": {\"role\": \"assistant\", \"content\": \"1. str  \\n2. str  \\n3. function  \\n4. function  \\n5. str  \", \"refusal\": null}, \"logprobs\": null, \"finish_reason\": \"stop\"}], \"usage\": {\"prompt_tokens\": 359, \"completion_tokens\": 20, \"total_tokens\": 379}, \"system_fingerprint\": \"fp_5bd87c427a\"}}, \"error\": null}\n",
      "\n"
     ]
    }
   ],
   "source": [
    "from openai import OpenAI\n",
    "client = OpenAI()\n",
    "\n",
    "file_response = client.files.content(file_info.output_file_id)\n",
    "print(file_response.text)"
   ]
  }
 ],
 "metadata": {
  "kernelspec": {
   "display_name": ".venv",
   "language": "python",
   "name": "python3"
  },
  "language_info": {
   "codemirror_mode": {
    "name": "ipython",
    "version": 3
   },
   "file_extension": ".py",
   "mimetype": "text/x-python",
   "name": "python",
   "nbconvert_exporter": "python",
   "pygments_lexer": "ipython3",
   "version": "3.10.12"
  }
 },
 "nbformat": 4,
 "nbformat_minor": 2
}
